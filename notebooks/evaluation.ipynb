{
 "cells": [
  {
   "cell_type": "markdown",
   "id": "8b03e9ea",
   "metadata": {},
   "source": [
    "Danh gia model"
   ]
  }
 ],
 "metadata": {
  "language_info": {
   "name": "python"
  }
 },
 "nbformat": 4,
 "nbformat_minor": 5
}
