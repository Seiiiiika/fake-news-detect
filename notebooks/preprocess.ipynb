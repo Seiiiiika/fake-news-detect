{
 "cells": [
  {
   "cell_type": "markdown",
   "id": "fed9608e",
   "metadata": {},
   "source": [
    "Tien xu ly va trich xuat dac trung"
   ]
  }
 ],
 "metadata": {
  "language_info": {
   "name": "python"
  }
 },
 "nbformat": 4,
 "nbformat_minor": 5
}
